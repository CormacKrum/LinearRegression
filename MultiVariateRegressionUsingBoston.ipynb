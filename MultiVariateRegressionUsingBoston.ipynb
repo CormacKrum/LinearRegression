{
 "cells": [
  {
   "cell_type": "code",
   "execution_count": 5,
   "metadata": {},
   "outputs": [],
   "source": [
    "import numpy as np\n",
    "import matplotlib.pyplot as plt\n",
    "from sklearn.datasets import make_regression\n",
    "from sklearn.linear_model import LinearRegression\n",
    "from sklearn.datasets import load_boston"
   ]
  },
  {
   "cell_type": "code",
   "execution_count": 10,
   "metadata": {},
   "outputs": [],
   "source": [
    "d=load_boston()\n",
    "X=d.data\n",
    "y=d.target"
   ]
  },
  {
   "cell_type": "code",
   "execution_count": 34,
   "metadata": {},
   "outputs": [],
   "source": [
    "class CustomLinearRegression:\n",
    "    def __init__(self,lr=0.3):\n",
    "        self.__lr=lr\n",
    "        self.errors=[]\n",
    "    def fit(self,X,y):\n",
    "        self.__mean=X.mean(axis=0)\n",
    "        self.__std=X.std(axis=0)\n",
    "        X=(X-self.__mean)/self.__std\n",
    "        \n",
    "        self.__X=X\n",
    "        self.__y=y\n",
    "        self.coef_=np.random.randn(X.shape[1])\n",
    "        self.intercept_=np.random.random()\n",
    "        for k in range(0,20):\n",
    "            #print(\"Error\",self.error())\n",
    "            self.gradient_decent()\n",
    "            self.errors.append(self.error())\n",
    "        return self.errors\n",
    "        \n",
    "    def gradient_decent(self):\n",
    "        delta_coef,delta_bias=self.gradient()\n",
    "        self.coef_+=delta_coef\n",
    "        self.intercept_+=delta_bias\n",
    "        #print(\"Coefficient :\",self.coef_,\"\\nIntercept : \",self.intercept_,\"\\n\")\n",
    "            \n",
    "    def gradient(self):\n",
    "        yh=self.hypo(self.__X)\n",
    "        diff=(yh-self.__y.reshape((-1,1)))\n",
    "        del_err_coef=(np.dot(diff.T,self.__X)).flatten()/len(yh)\n",
    "        del_err_inter=(2*diff).mean()\n",
    "        return (-del_err_coef*self.__lr,-del_err_inter*self.__lr)\n",
    "    \n",
    "    def hypo(self,X):\n",
    "        return ((np.sum(X*self.coef_,axis=1,keepdims=True))+self.intercept_)\n",
    "    \n",
    "    def predict(self,X):\n",
    "        X_mod=(X-self.__mean)/self.__std\n",
    "        y_hypo=self.hypo(X_mod)\n",
    "        return y_hypo.flatten()\n",
    "        \n",
    "    def error(self):\n",
    "        yh=self.hypo(self.__X)\n",
    "        err=((yh-self.__y.reshape((-1,1)))**2).mean()\n",
    "        return err"
   ]
  },
  {
   "cell_type": "code",
   "execution_count": 35,
   "metadata": {},
   "outputs": [],
   "source": [
    "model=CustomLinearRegression()\n",
    "err=model.fit(X,y)"
   ]
  },
  {
   "cell_type": "code",
   "execution_count": 36,
   "metadata": {},
   "outputs": [
    {
     "data": {
      "text/plain": [
       "array([30.06472113, 24.70496437, 30.64018835, 29.06392312, 28.52468089,\n",
       "       25.33126141, 23.08946591, 19.87757746, 12.17143685, 19.40348706])"
      ]
     },
     "execution_count": 36,
     "metadata": {},
     "output_type": "execute_result"
    }
   ],
   "source": [
    "model.predict(X[:10])"
   ]
  },
  {
   "cell_type": "code",
   "execution_count": 37,
   "metadata": {},
   "outputs": [
    {
     "data": {
      "text/plain": [
       "array([24. , 21.6, 34.7, 33.4, 36.2, 28.7, 22.9, 27.1, 16.5, 18.9])"
      ]
     },
     "execution_count": 37,
     "metadata": {},
     "output_type": "execute_result"
    }
   ],
   "source": [
    "y[:10]"
   ]
  },
  {
   "cell_type": "code",
   "execution_count": 38,
   "metadata": {},
   "outputs": [],
   "source": [
    "#InBuilt Linear Regression\n",
    "model2=LinearRegression()"
   ]
  },
  {
   "cell_type": "code",
   "execution_count": 39,
   "metadata": {},
   "outputs": [
    {
     "data": {
      "text/plain": [
       "LinearRegression(copy_X=True, fit_intercept=True, n_jobs=None, normalize=False)"
      ]
     },
     "execution_count": 39,
     "metadata": {},
     "output_type": "execute_result"
    }
   ],
   "source": [
    "model2.fit(X,y)"
   ]
  },
  {
   "cell_type": "code",
   "execution_count": 40,
   "metadata": {},
   "outputs": [
    {
     "data": {
      "text/plain": [
       "array([30.00384338, 25.02556238, 30.56759672, 28.60703649, 27.94352423,\n",
       "       25.25628446, 23.00180827, 19.53598843, 11.52363685, 18.92026211])"
      ]
     },
     "execution_count": 40,
     "metadata": {},
     "output_type": "execute_result"
    }
   ],
   "source": [
    "model2.predict(X[:10])"
   ]
  },
  {
   "cell_type": "code",
   "execution_count": 41,
   "metadata": {},
   "outputs": [
    {
     "data": {
      "text/plain": [
       "[<matplotlib.lines.Line2D at 0x1da35f88d08>]"
      ]
     },
     "execution_count": 41,
     "metadata": {},
     "output_type": "execute_result"
    },
    {
     "data": {
      "image/png": "[encoded data removed]",
      "text/plain": [
       "<Figure size 432x288 with 1 Axes>"
      ]
     },
     "metadata": {
      "needs_background": "light"
     },
     "output_type": "display_data"
    }
   ],
   "source": [
    "plt.plot(err)"
   ]
  },
  {
   "cell_type": "code",
   "execution_count": null,
   "metadata": {},
   "outputs": [],
   "source": []
  }
 ],
 "metadata": {
  "kernelspec": {
   "display_name": "Python 3",
   "language": "python",
   "name": "python3"
  },
  "language_info": {
   "codemirror_mode": {
    "name": "ipython",
    "version": 3
   },
   "file_extension": ".py",
   "mimetype": "text/x-python",
   "name": "python",
   "nbconvert_exporter": "python",
   "pygments_lexer": "ipython3",
   "version": "3.7.4"
  }
 },
 "nbformat": 4,
 "nbformat_minor": 4
}
