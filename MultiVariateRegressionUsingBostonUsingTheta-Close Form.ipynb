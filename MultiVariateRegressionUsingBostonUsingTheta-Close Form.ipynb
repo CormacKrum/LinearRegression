{
 "cells": [
  {
   "cell_type": "code",
   "execution_count": 1,
   "metadata": {},
   "outputs": [],
   "source": [
    "import numpy as np\n",
    "import matplotlib.pyplot as plt\n",
    "from sklearn.datasets import make_regression\n",
    "from sklearn.linear_model import LinearRegression\n",
    "from sklearn.datasets import load_boston"
   ]
  },
  {
   "cell_type": "code",
   "execution_count": 2,
   "metadata": {},
   "outputs": [],
   "source": [
    "d=load_boston()\n",
    "X=d.data\n",
    "y=d.target"
   ]
  },
  {
   "cell_type": "code",
   "execution_count": 37,
   "metadata": {},
   "outputs": [],
   "source": [
    "class CustomLinearRegression:\n",
    "    def fit(self,X,y):\n",
    "        self.__mean=X.mean(axis=0)\n",
    "        self.__std=X.std(axis=0)\n",
    "        X=(X-self.__mean)/self.__std\n",
    "        \n",
    "        X_mod=np.hstack([np.ones((X.shape[0],1)),X])\n",
    "        y_mod=y.reshape(-1,1)\n",
    "        \n",
    "        self.first=np.linalg.inv(np.dot(X_mod.T,X_mod))\n",
    "        self.second=np.dot(X_mod.T,y_mod)\n",
    "        self.theta_=np.dot(self.first,self.second)\n",
    "        \n",
    "    def hypo(self,X):\n",
    "        return (np.dot(X,self.theta_))\n",
    "    \n",
    "    def predict(self,X):\n",
    "        X_mod=(X-self.__mean)/self.__std\n",
    "        X_mod=np.hstack([np.ones((X_mod.shape[0],1)),X_mod])\n",
    "        y_hypo=self.hypo(X_mod)\n",
    "        return y_hypo.flatten()"
   ]
  },
  {
   "cell_type": "code",
   "execution_count": 38,
   "metadata": {},
   "outputs": [],
   "source": [
    "model=CustomLinearRegression()\n",
    "model.fit(X,y)"
   ]
  },
  {
   "cell_type": "code",
   "execution_count": 39,
   "metadata": {},
   "outputs": [
    {
     "data": {
      "text/plain": [
       "array([30.00384338, 25.02556238, 30.56759672, 28.60703649, 27.94352423,\n",
       "       25.25628446, 23.00180827, 19.53598843, 11.52363685, 18.92026211])"
      ]
     },
     "execution_count": 39,
     "metadata": {},
     "output_type": "execute_result"
    }
   ],
   "source": [
    "model.predict(X[:10])"
   ]
  },
  {
   "cell_type": "code",
   "execution_count": 40,
   "metadata": {},
   "outputs": [
    {
     "data": {
      "text/plain": [
       "array([24. , 21.6, 34.7, 33.4, 36.2, 28.7, 22.9, 27.1, 16.5, 18.9])"
      ]
     },
     "execution_count": 40,
     "metadata": {},
     "output_type": "execute_result"
    }
   ],
   "source": [
    "y[:10]"
   ]
  },
  {
   "cell_type": "code",
   "execution_count": 41,
   "metadata": {},
   "outputs": [
    {
     "data": {
      "text/plain": [
       "array([[ 2.25328063e+01],\n",
       "       [-9.28146064e-01],\n",
       "       [ 1.08156863e+00],\n",
       "       [ 1.40899997e-01],\n",
       "       [ 6.81739725e-01],\n",
       "       [-2.05671827e+00],\n",
       "       [ 2.67423017e+00],\n",
       "       [ 1.94660717e-02],\n",
       "       [-3.10404426e+00],\n",
       "       [ 2.66221764e+00],\n",
       "       [-2.07678168e+00],\n",
       "       [-2.06060666e+00],\n",
       "       [ 8.49268418e-01],\n",
       "       [-3.74362713e+00]])"
      ]
     },
     "execution_count": 41,
     "metadata": {},
     "output_type": "execute_result"
    }
   ],
   "source": [
    "model.theta_"
   ]
  },
  {
   "cell_type": "code",
   "execution_count": 43,
   "metadata": {},
   "outputs": [
    {
     "data": {
      "text/plain": [
       "(14, 14)"
      ]
     },
     "execution_count": 43,
     "metadata": {},
     "output_type": "execute_result"
    }
   ],
   "source": [
    "model.first.shape"
   ]
  },
  {
   "cell_type": "code",
   "execution_count": 44,
   "metadata": {},
   "outputs": [
    {
     "data": {
      "text/plain": [
       "(14, 1)"
      ]
     },
     "execution_count": 44,
     "metadata": {},
     "output_type": "execute_result"
    }
   ],
   "source": [
    "model.second.shape"
   ]
  },
  {
   "cell_type": "code",
   "execution_count": null,
   "metadata": {},
   "outputs": [],
   "source": []
  }
 ],
 "metadata": {
  "kernelspec": {
   "display_name": "Python 3",
   "language": "python",
   "name": "python3"
  },
  "language_info": {
   "codemirror_mode": {
    "name": "ipython",
    "version": 3
   },
   "file_extension": ".py",
   "mimetype": "text/x-python",
   "name": "python",
   "nbconvert_exporter": "python",
   "pygments_lexer": "ipython3",
   "version": "3.7.4"
  }
 },
 "nbformat": 4,
 "nbformat_minor": 4
}
