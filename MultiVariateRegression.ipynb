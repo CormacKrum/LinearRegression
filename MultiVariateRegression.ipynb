{
 "cells": [
  {
   "cell_type": "code",
   "execution_count": 2,
   "metadata": {},
   "outputs": [],
   "source": [
    "import numpy as np\n",
    "import matplotlib.pyplot as plt\n",
    "from sklearn.datasets import make_regression\n",
    "from sklearn.linear_model import LinearRegression"
   ]
  },
  {
   "cell_type": "code",
   "execution_count": 30,
   "metadata": {},
   "outputs": [],
   "source": [
    "bias=100\n",
    "X,y,coef=make_regression(n_samples=1000,n_features=5,bias=bias,coef=True,random_state=42,noise=10)"
   ]
  },
  {
   "cell_type": "code",
   "execution_count": 31,
   "metadata": {},
   "outputs": [
    {
     "data": {
      "text/plain": [
       "(array([28.62798621, 46.07121713, 16.82365791, 24.74629812, 18.99347437]), 100)"
      ]
     },
     "execution_count": 31,
     "metadata": {},
     "output_type": "execute_result"
    }
   ],
   "source": [
    "coef,bias"
   ]
  },
  {
   "cell_type": "code",
   "execution_count": 32,
   "metadata": {},
   "outputs": [],
   "source": [
    "linear=LinearRegression().fit(X,y)"
   ]
  },
  {
   "cell_type": "code",
   "execution_count": 33,
   "metadata": {},
   "outputs": [
    {
     "data": {
      "text/plain": [
       "(array([28.05749028, 45.94154566, 16.61187941, 24.53193249, 19.36893323]),\n",
       " 99.3828533985921)"
      ]
     },
     "execution_count": 33,
     "metadata": {},
     "output_type": "execute_result"
    }
   ],
   "source": [
    "linear.coef_,linear.intercept_"
   ]
  },
  {
   "cell_type": "code",
   "execution_count": 34,
   "metadata": {},
   "outputs": [
    {
     "data": {
      "text/plain": [
       "5"
      ]
     },
     "execution_count": 34,
     "metadata": {},
     "output_type": "execute_result"
    }
   ],
   "source": [
    "linear.rank_"
   ]
  },
  {
   "cell_type": "code",
   "execution_count": 35,
   "metadata": {},
   "outputs": [],
   "source": [
    "class CustomLinearRegression:\n",
    "    def __init__(self,lr=0.01):\n",
    "        self.__lr=lr\n",
    "        self.errors=[]\n",
    "    def fit(self,X,y):\n",
    "        self.__X=X\n",
    "        self.__y=y\n",
    "        self.coef_=np.random.randn(X.shape[1])\n",
    "        self.intercept_=np.random.random()\n",
    "        for k in range(0,20):\n",
    "            #print(\"Error\",self.error())\n",
    "            self.gradient_decent()\n",
    "            self.errors.append(self.error())\n",
    "        return self.errors\n",
    "        \n",
    "    def gradient_decent(self):\n",
    "        delta_coef,delta_bias=self.gradient()\n",
    "        self.coef_+=delta_coef\n",
    "        self.intercept_+=delta_bias\n",
    "        #print(\"Coefficient :\",self.coef_,\"\\nIntercept : \",self.intercept_,\"\\n\")\n",
    "            \n",
    "    def gradient(self):\n",
    "        yh=self.hypo(self.__X)\n",
    "        diff=(yh-self.__y.reshape((-1,1)))\n",
    "        del_err_coef=(np.dot(diff.T,self.__X)).flatten()/len(yh)\n",
    "        del_err_inter=(2*diff).mean()\n",
    "        return (-del_err_coef*self.__lr,-del_err_inter*self.__lr)\n",
    "    \n",
    "    def hypo(self,X):\n",
    "        return ((np.sum(X*self.coef_,axis=1,keepdims=True))+self.intercept_)\n",
    "    def error(self):\n",
    "        yh=self.hypo(self.__X)\n",
    "        err=((yh-self.__y.reshape((-1,1)))**2).mean()\n",
    "        return err\n",
    "    "
   ]
  },
  {
   "cell_type": "code",
   "execution_count": 36,
   "metadata": {},
   "outputs": [],
   "source": [
    "model=CustomLinearRegression(lr=.3)\n",
    "err=model.fit(X,y)"
   ]
  },
  {
   "cell_type": "code",
   "execution_count": 37,
   "metadata": {},
   "outputs": [
    {
     "data": {
      "text/plain": [
       "array([28.0060877 , 45.91071334, 16.61358265, 24.50673167, 19.35173985])"
      ]
     },
     "execution_count": 37,
     "metadata": {},
     "output_type": "execute_result"
    }
   ],
   "source": [
    "model.coef_"
   ]
  },
  {
   "cell_type": "code",
   "execution_count": 38,
   "metadata": {},
   "outputs": [
    {
     "data": {
      "text/plain": [
       "99.38474364268406"
      ]
     },
     "execution_count": 38,
     "metadata": {},
     "output_type": "execute_result"
    }
   ],
   "source": [
    "model.intercept_\n"
   ]
  },
  {
   "cell_type": "code",
   "execution_count": 39,
   "metadata": {},
   "outputs": [
    {
     "data": {
      "text/plain": [
       "106.95504408632482"
      ]
     },
     "execution_count": 39,
     "metadata": {},
     "output_type": "execute_result"
    }
   ],
   "source": [
    "model.error()"
   ]
  },
  {
   "cell_type": "code",
   "execution_count": 40,
   "metadata": {},
   "outputs": [
    {
     "data": {
      "text/plain": [
       "[<matplotlib.lines.Line2D at 0x2658a464cc8>]"
      ]
     },
     "execution_count": 40,
     "metadata": {},
     "output_type": "execute_result"
    },
    {
     "data": {
      "image/png": "[encoded data removed]",
      "text/plain": [
       "<Figure size 432x288 with 1 Axes>"
      ]
     },
     "metadata": {
      "needs_background": "light"
     },
     "output_type": "display_data"
    }
   ],
   "source": [
    "plt.plot(err)"
   ]
  },
  {
   "cell_type": "code",
   "execution_count": null,
   "metadata": {},
   "outputs": [],
   "source": []
  }
 ],
 "metadata": {
  "kernelspec": {
   "display_name": "Python 3",
   "language": "python",
   "name": "python3"
  },
  "language_info": {
   "codemirror_mode": {
    "name": "ipython",
    "version": 3
   },
   "file_extension": ".py",
   "mimetype": "text/x-python",
   "name": "python",
   "nbconvert_exporter": "python",
   "pygments_lexer": "ipython3",
   "version": "3.7.4"
  }
 },
 "nbformat": 4,
 "nbformat_minor": 4
}
