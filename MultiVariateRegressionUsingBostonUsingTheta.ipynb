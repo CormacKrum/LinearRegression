{
 "cells": [
  {
   "cell_type": "code",
   "execution_count": 2,
   "metadata": {},
   "outputs": [],
   "source": [
    "import numpy as np\n",
    "import matplotlib.pyplot as plt\n",
    "from sklearn.datasets import make_regression\n",
    "from sklearn.linear_model import LinearRegression\n",
    "from sklearn.datasets import load_boston"
   ]
  },
  {
   "cell_type": "code",
   "execution_count": 3,
   "metadata": {},
   "outputs": [],
   "source": [
    "d=load_boston()\n",
    "X=d.data\n",
    "y=d.target"
   ]
  },
  {
   "cell_type": "code",
   "execution_count": 9,
   "metadata": {},
   "outputs": [],
   "source": [
    "class CustomLinearRegression:\n",
    "    def __init__(self,lr=0.3):\n",
    "        self.__lr=lr\n",
    "        self.errors=[]\n",
    "    def fit(self,X,y):\n",
    "        self.__mean=X.mean(axis=0)\n",
    "        self.__std=X.std(axis=0)\n",
    "        X=(X-self.__mean)/self.__std\n",
    "        \n",
    "        X_mod=np.hstack([np.ones((X.shape[0],1)),X])\n",
    "        self.__X=X_mod\n",
    "        self.__y=y\n",
    "        self.theta_=np.random.randn(X_mod.shape[1],1)\n",
    "        \n",
    "        for k in range(0,20):\n",
    "            #print(\"Error\",self.error())\n",
    "            self.gradient_decent()\n",
    "            self.errors.append(self.error())\n",
    "        return self.errors\n",
    "        \n",
    "    def gradient_decent(self):\n",
    "        delta_theta=self.gradient()\n",
    "        self.theta_+=delta_theta\n",
    "        #print(\"Coefficient :\",self.coef_,\"\\nIntercept : \",self.intercept_,\"\\n\")\n",
    "            \n",
    "    def gradient(self):\n",
    "        yh=self.hypo(self.__X)\n",
    "        diff=(yh-self.__y.reshape(-1,1))\n",
    "        del_err_theta=(np.dot(diff.T,self.__X)).T/len(yh)\n",
    "        return -del_err_theta*self.__lr\n",
    "    \n",
    "    def hypo(self,X):\n",
    "        return (np.dot(X,self.theta_))\n",
    "    \n",
    "    def predict(self,X):\n",
    "        X_mod=(X-self.__mean)/self.__std\n",
    "        X_mod=np.hstack([np.ones((X_mod.shape[0],1)),X_mod])\n",
    "        y_hypo=self.hypo(X_mod)\n",
    "        return y_hypo.flatten()\n",
    "        \n",
    "    def error(self):\n",
    "        yh=self.hypo(self.__X)\n",
    "        err=((yh-self.__y.reshape((-1,1)))**2).mean()\n",
    "        return err"
   ]
  },
  {
   "cell_type": "code",
   "execution_count": 10,
   "metadata": {},
   "outputs": [],
   "source": [
    "model=CustomLinearRegression()\n",
    "err=model.fit(X,y)"
   ]
  },
  {
   "cell_type": "code",
   "execution_count": 11,
   "metadata": {},
   "outputs": [
    {
     "data": {
      "text/plain": [
       "array([30.52193434, 25.07087545, 30.84036703, 29.35868129, 28.79236026,\n",
       "       25.81822376, 23.21968331, 20.10772985, 12.08041373, 19.69034982])"
      ]
     },
     "execution_count": 11,
     "metadata": {},
     "output_type": "execute_result"
    }
   ],
   "source": [
    "model.predict(X[:10])"
   ]
  },
  {
   "cell_type": "code",
   "execution_count": 12,
   "metadata": {},
   "outputs": [
    {
     "data": {
      "text/plain": [
       "array([24. , 21.6, 34.7, 33.4, 36.2, 28.7, 22.9, 27.1, 16.5, 18.9])"
      ]
     },
     "execution_count": 12,
     "metadata": {},
     "output_type": "execute_result"
    }
   ],
   "source": [
    "y[:10]"
   ]
  },
  {
   "cell_type": "code",
   "execution_count": 13,
   "metadata": {},
   "outputs": [],
   "source": [
    "#InBuilt Linear Regression\n",
    "model2=LinearRegression()"
   ]
  },
  {
   "cell_type": "code",
   "execution_count": 14,
   "metadata": {},
   "outputs": [
    {
     "data": {
      "text/plain": [
       "LinearRegression(copy_X=True, fit_intercept=True, n_jobs=None, normalize=False)"
      ]
     },
     "execution_count": 14,
     "metadata": {},
     "output_type": "execute_result"
    }
   ],
   "source": [
    "model2.fit(X,y)"
   ]
  },
  {
   "cell_type": "code",
   "execution_count": 15,
   "metadata": {},
   "outputs": [
    {
     "data": {
      "text/plain": [
       "array([30.00384338, 25.02556238, 30.56759672, 28.60703649, 27.94352423,\n",
       "       25.25628446, 23.00180827, 19.53598843, 11.52363685, 18.92026211])"
      ]
     },
     "execution_count": 15,
     "metadata": {},
     "output_type": "execute_result"
    }
   ],
   "source": [
    "model2.predict(X[:10])"
   ]
  },
  {
   "cell_type": "code",
   "execution_count": 16,
   "metadata": {},
   "outputs": [
    {
     "data": {
      "text/plain": [
       "[<matplotlib.lines.Line2D at 0x2324b4055c8>]"
      ]
     },
     "execution_count": 16,
     "metadata": {},
     "output_type": "execute_result"
    },
    {
     "data": {
      "image/png": "[encoded data removed]",
      "text/plain": [
       "<Figure size 432x288 with 1 Axes>"
      ]
     },
     "metadata": {
      "needs_background": "light"
     },
     "output_type": "display_data"
    }
   ],
   "source": [
    "plt.plot(err)"
   ]
  },
  {
   "cell_type": "code",
   "execution_count": null,
   "metadata": {},
   "outputs": [],
   "source": []
  }
 ],
 "metadata": {
  "kernelspec": {
   "display_name": "Python 3",
   "language": "python",
   "name": "python3"
  },
  "language_info": {
   "codemirror_mode": {
    "name": "ipython",
    "version": 3
   },
   "file_extension": ".py",
   "mimetype": "text/x-python",
   "name": "python",
   "nbconvert_exporter": "python",
   "pygments_lexer": "ipython3",
   "version": "3.7.4"
  }
 },
 "nbformat": 4,
 "nbformat_minor": 4
}
